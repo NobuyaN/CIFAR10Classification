{
 "cells": [
  {
   "cell_type": "code",
   "execution_count": 1,
   "metadata": {},
   "outputs": [],
   "source": [
    "import torch\n",
    "import torch.nn as nn\n",
    "import torch.nn.functional as F\n",
    "from torch.utils.data import DataLoader\n",
    "import torchvision\n",
    "from torchvision.datasets import CIFAR10\n",
    "from torchvision.transforms import v2\n",
    "import matplotlib.pyplot as plt\n",
    "\n",
    "import ssl\n",
    "\n",
    "BATCH_SIZE = 4\n",
    "EPOCHS = 5\n",
    "MODEL_PATH = 'model/cifar10_pytorch.pth'\n",
    "DEVICE = (\n",
    "  \"cuda\"\n",
    "  if torch.cuda.is_available()\n",
    "  else \"mps\"\n",
    "  if torch.backends.mps.is_available()\n",
    "  else \"cpu\"\n",
    ")"
   ]
  },
  {
   "cell_type": "code",
   "execution_count": 2,
   "metadata": {},
   "outputs": [],
   "source": [
    "transform = v2.Compose([\n",
    "  # v2.Resize(size=(IMAGE_HEIGHT, IMAGE_WIDTH)) CIFAR10 dataset is already resized to 32x32\n",
    "  v2.ToImage(),\n",
    "  v2.ToDtype(torch.float32, scale=True),\n",
    "  v2.Normalize((0.5, 0.5, 0.5), (0.5, 0.5, 0.5))\n",
    "])"
   ]
  },
  {
   "cell_type": "code",
   "execution_count": 3,
   "metadata": {},
   "outputs": [
    {
     "name": "stdout",
     "output_type": "stream",
     "text": [
      "Downloading https://www.cs.toronto.edu/~kriz/cifar-10-python.tar.gz to data\\cifar-10-python.tar.gz\n"
     ]
    },
    {
     "name": "stderr",
     "output_type": "stream",
     "text": [
      "100%|██████████| 170498071/170498071 [00:15<00:00, 10670621.92it/s]\n"
     ]
    },
    {
     "name": "stdout",
     "output_type": "stream",
     "text": [
      "Extracting data\\cifar-10-python.tar.gz to data\n",
      "Files already downloaded and verified\n"
     ]
    }
   ],
   "source": [
    "ssl._create_default_https_context = ssl._create_unverified_context\n",
    "\n",
    "#CIFAR10 of 32x32x3 image\n",
    "trainset = CIFAR10('data', train=True, download=True, transform=transform)\n",
    "testset = CIFAR10('data', train=False, download=True, transform=transform)"
   ]
  },
  {
   "cell_type": "code",
   "execution_count": 4,
   "metadata": {},
   "outputs": [],
   "source": [
    "classes = [\"airplane\", \"automobile\", \"bird\", \"cat\", \"deer\", \"dog\", \"frog\", \"horse\", \"ship\", \"truck\"]"
   ]
  },
  {
   "cell_type": "code",
   "execution_count": 5,
   "metadata": {},
   "outputs": [],
   "source": [
    "train_dataloader = DataLoader(trainset, batch_size=BATCH_SIZE, shuffle=True, num_workers=2)\n",
    "test_dataloader = DataLoader(testset, batch_size=BATCH_SIZE, shuffle=False, num_workers=2)"
   ]
  },
  {
   "cell_type": "code",
   "execution_count": 6,
   "metadata": {},
   "outputs": [
    {
     "data": {
      "image/png": "[encoded data removed]",
      "text/plain": [
       "<Figure size 640x480 with 1 Axes>"
      ]
     },
     "metadata": {},
     "output_type": "display_data"
    },
    {
     "name": "stdout",
     "output_type": "stream",
     "text": [
      "truck horse dog horse\n"
     ]
    }
   ],
   "source": [
    "def imshow(img):\n",
    "  # img_f = (img_i - mean) / std\n",
    "  # img_i = img_f * std + mean = (img_i / 2) + 0.5\n",
    "  img = (img * 0.5) + 0.5\n",
    "  transformed_img = img.numpy().transpose((1, 2, 0))\n",
    "  plt.imshow(transformed_img)\n",
    "  plt.axis('off')\n",
    "  plt.show()\n",
    "\n",
    "data_iterator = iter(train_dataloader)\n",
    "X, y = next(data_iterator)\n",
    "\n",
    "imshow(torchvision.utils.make_grid(X))\n",
    "print(' '.join(f'{classes[y[j]]}' for j in range(BATCH_SIZE)))"
   ]
  },
  {
   "cell_type": "code",
   "execution_count": 7,
   "metadata": {},
   "outputs": [],
   "source": [
    "class CIFAR_model(nn.Module):\n",
    "  def __init__(self):\n",
    "    super(CIFAR_model, self).__init__()\n",
    "    # Original shape: 32x32x3\n",
    "    self.conv1 = nn.Conv2d(in_channels=3, out_channels=6, kernel_size=(5,5))\n",
    "    self.pool = nn.MaxPool2d(kernel_size=(2,2), stride=2)\n",
    "    self.conv2 = nn.Conv2d(in_channels=6, out_channels=16, kernel_size=(5,5))\n",
    "    self.fc1 = nn.Linear(in_features=5*5*16, out_features=120)\n",
    "    self.fc2 = nn.Linear(in_features=120, out_features=84)\n",
    "    self.fc3 = nn.Linear(in_features=84, out_features=10)\n",
    "  \n",
    "  def forward(self, x):\n",
    "    # Use functional API for stateless objects. Unnessecary to use nn.relu, but required if defined in __init__\n",
    "    x = self.pool(F.relu(self.conv1(x)))\n",
    "    x = self.pool(F.relu(self.conv2(x)))\n",
    "    x = torch.flatten(x, start_dim=1)\n",
    "    x = F.relu(self.fc1(x))\n",
    "    x = F.relu(self.fc2(x))\n",
    "    x = self.fc3(x)\n",
    "    return x\n",
    "model = CIFAR_model().to(DEVICE)"
   ]
  },
  {
   "cell_type": "code",
   "execution_count": 8,
   "metadata": {},
   "outputs": [],
   "source": [
    "loss_fn = nn.CrossEntropyLoss()\n",
    "optimizer = torch.optim.SGD(model.parameters(), lr=1e-3, momentum=0.9)"
   ]
  },
  {
   "cell_type": "code",
   "execution_count": 9,
   "metadata": {},
   "outputs": [
    {
     "name": "stdout",
     "output_type": "stream",
     "text": [
      "[1,  4000] -------- Mini-batch Loss 4.0212\n",
      "[1,  8000] -------- Mini-batch Loss 3.2542\n",
      "[1, 12000] -------- Mini-batch Loss 3.0132\n",
      "[2,  4000] -------- Mini-batch Loss 2.7879\n",
      "[2,  8000] -------- Mini-batch Loss 2.6993\n",
      "[2, 12000] -------- Mini-batch Loss 2.5964\n",
      "[3,  4000] -------- Mini-batch Loss 2.4736\n",
      "[3,  8000] -------- Mini-batch Loss 2.4149\n",
      "[3, 12000] -------- Mini-batch Loss 2.3655\n",
      "[4,  4000] -------- Mini-batch Loss 2.2417\n",
      "[4,  8000] -------- Mini-batch Loss 2.2441\n",
      "[4, 12000] -------- Mini-batch Loss 2.2373\n",
      "[5,  4000] -------- Mini-batch Loss 2.0758\n",
      "[5,  8000] -------- Mini-batch Loss 2.1125\n",
      "[5, 12000] -------- Mini-batch Loss 2.1049\n",
      "Training Finished\n"
     ]
    }
   ],
   "source": [
    "for epoch in range(EPOCHS):\n",
    "  mini_batch_loss = 0\n",
    "  for i, (X, y) in enumerate(train_dataloader, start=0):\n",
    "    X, y = X.to(DEVICE), y.to(DEVICE)\n",
    "    optimizer.zero_grad()\n",
    "\n",
    "    pred = model(X)\n",
    "    loss = loss_fn(pred, y)\n",
    "\n",
    "    loss.backward()\n",
    "    optimizer.step()\n",
    "\n",
    "    mini_batch_loss += loss.item()\n",
    "    if i % 4000 == 3999:\n",
    "      #For every 2000 iterations, print out the 2000 iteration's average loss\n",
    "      print(f\"[{epoch+1}, {i+1:5d}] -------- Mini-batch Loss {mini_batch_loss/2000:>.4f}\")\n",
    "      mini_batch_loss = 0\n",
    "print(\"Training Finished\")"
   ]
  },
  {
   "cell_type": "code",
   "execution_count": 10,
   "metadata": {},
   "outputs": [],
   "source": [
    "#Instead of saving the model directly, it is recommended by Pytorch to save only the state dict (for compatibility reasons)\n",
    "#After saving, you can load it using load_state_dict\n",
    "torch.save(model.state_dict(), MODEL_PATH)"
   ]
  },
  {
   "cell_type": "code",
   "execution_count": 11,
   "metadata": {},
   "outputs": [
    {
     "data": {
      "image/png": "[encoded data removed]",
      "text/plain": [
       "<Figure size 640x480 with 1 Axes>"
      ]
     },
     "metadata": {},
     "output_type": "display_data"
    },
    {
     "name": "stdout",
     "output_type": "stream",
     "text": [
      "Ground Truth Label: cat ship ship airplane\n"
     ]
    }
   ],
   "source": [
    "data_iterator = iter(test_dataloader)\n",
    "X, y = next(data_iterator)\n",
    "\n",
    "imshow(torchvision.utils.make_grid(X))\n",
    "print(\"Ground Truth Label:\", ' '.join(f'{classes[y[j]]}' for j in range(BATCH_SIZE)))"
   ]
  },
  {
   "cell_type": "code",
   "execution_count": 12,
   "metadata": {},
   "outputs": [
    {
     "data": {
      "text/plain": [
       "<All keys matched successfully>"
      ]
     },
     "execution_count": 12,
     "metadata": {},
     "output_type": "execute_result"
    }
   ],
   "source": [
    "model = CIFAR_model()\n",
    "model.load_state_dict(torch.load(MODEL_PATH))"
   ]
  },
  {
   "cell_type": "code",
   "execution_count": 13,
   "metadata": {},
   "outputs": [
    {
     "name": "stdout",
     "output_type": "stream",
     "text": [
      "Test Accuracy of size 10000: 59.98 %\n"
     ]
    }
   ],
   "source": [
    "correct, total = 0, len(test_dataloader.dataset)\n",
    "with torch.no_grad():\n",
    "  for (X, y) in test_dataloader:\n",
    "    X, y = X.to(DEVICE), y.to(DEVICE)\n",
    "\n",
    "    outputs = model(X)\n",
    "    # outputs shares the same data with outputs.data, but the .data attribute skips autograd backpropagation computation graph\n",
    "    # Since the larger logits would have the larger probability, you do not need to pass in softmax layer\n",
    "    pred_values, pred_index = torch.max(outputs.data, dim=1) #reduce/collapse dimension 1 (4 rows of batch and 10 columns of classses)\n",
    "\n",
    "    correct += (pred_index == y).sum().item() \n",
    "\n",
    "print(f'Test Accuracy of size {total}: {(correct/total) * 100:.2f} %')"
   ]
  },
  {
   "cell_type": "code",
   "execution_count": 14,
   "metadata": {},
   "outputs": [],
   "source": [
    "# From Pytorch Website and removed redundancy "
   ]
  }
 ],
 "metadata": {
  "kernelspec": {
   "display_name": "Python 3",
   "language": "python",
   "name": "python3"
  },
  "language_info": {
   "codemirror_mode": {
    "name": "ipython",
    "version": 3
   },
   "file_extension": ".py",
   "mimetype": "text/x-python",
   "name": "python",
   "nbconvert_exporter": "python",
   "pygments_lexer": "ipython3",
   "version": "3.11.5"
  }
 },
 "nbformat": 4,
 "nbformat_minor": 2
}
