{
 "cells": [
  {
   "cell_type": "markdown",
   "metadata": {},
   "source": [
    "## Import libraries and define global constants"
   ]
  },
  {
   "cell_type": "code",
   "execution_count": 1,
   "metadata": {},
   "outputs": [],
   "source": [
    "import torch\n",
    "import torch.nn as nn\n",
    "from torch.utils.data import DataLoader\n",
    "from torchvision.datasets import CIFAR10\n",
    "from torchvision.transforms import v2\n",
    "import torch.nn.functional as F\n",
    "import matplotlib.pyplot as plt\n",
    "from utils import train_valid_model\n",
    "import time\n",
    "import json\n",
    "\n",
    "MODEL_PATH = 'model/cifar10_validation.pth'\n",
    "BATCH_SIZE = 4\n",
    "EPOCHS = 5\n",
    "DEVICE = (\n",
    "  \"cuda\"\n",
    "  if torch.cuda.is_available()\n",
    "  else \"mps\"\n",
    "  if torch.backends.mps.is_available()\n",
    "  else \"cpu\"\n",
    ")"
   ]
  },
  {
   "cell_type": "markdown",
   "metadata": {},
   "source": [
    "## Prepare image transformation and generators "
   ]
  },
  {
   "cell_type": "code",
   "execution_count": 2,
   "metadata": {},
   "outputs": [],
   "source": [
    "transform = v2.Compose([\n",
    "  v2.ToImage(),\n",
    "  v2.ToDtype(torch.float32, scale=True),\n",
    "  v2.Normalize((0.5, 0.5, 0.5), (0.5, 0.5, 0.5))\n",
    "])"
   ]
  },
  {
   "cell_type": "code",
   "execution_count": 3,
   "metadata": {},
   "outputs": [],
   "source": [
    "trainset = CIFAR10('data', train=True, download=False, transform=transform)\n",
    "validset = CIFAR10('data', train=False, download=False, transform=transform)"
   ]
  },
  {
   "cell_type": "code",
   "execution_count": 4,
   "metadata": {},
   "outputs": [],
   "source": [
    "train_dataloader = DataLoader(trainset, BATCH_SIZE, shuffle=True, num_workers=2)\n",
    "valid_dataloader = DataLoader(validset, BATCH_SIZE, shuffle=False, num_workers=2)"
   ]
  },
  {
   "cell_type": "markdown",
   "metadata": {},
   "source": [
    "## Define model, initialize and state the forward pass"
   ]
  },
  {
   "cell_type": "code",
   "execution_count": 5,
   "metadata": {},
   "outputs": [
    {
     "name": "stdout",
     "output_type": "stream",
     "text": [
      "NeuralNetwork(\n",
      "  (layer_stack): Sequential(\n",
      "    (0): Conv2d(3, 32, kernel_size=(3, 3), stride=(1, 1), padding=(1, 1))\n",
      "    (1): ReLU()\n",
      "    (2): Conv2d(32, 64, kernel_size=(3, 3), stride=(1, 1), padding=(1, 1))\n",
      "    (3): ReLU()\n",
      "    (4): MaxPool2d(kernel_size=2, stride=2, padding=0, dilation=1, ceil_mode=False)\n",
      "    (5): BatchNorm2d(64, eps=1e-05, momentum=0.1, affine=True, track_running_stats=True)\n",
      "    (6): Conv2d(64, 128, kernel_size=(3, 3), stride=(1, 1), padding=(1, 1))\n",
      "    (7): ReLU()\n",
      "    (8): Conv2d(128, 128, kernel_size=(3, 3), stride=(1, 1), padding=(1, 1))\n",
      "    (9): ReLU()\n",
      "    (10): MaxPool2d(kernel_size=2, stride=2, padding=0, dilation=1, ceil_mode=False)\n",
      "    (11): BatchNorm2d(128, eps=1e-05, momentum=0.1, affine=True, track_running_stats=True)\n",
      "    (12): Conv2d(128, 256, kernel_size=(3, 3), stride=(1, 1), padding=(1, 1))\n",
      "    (13): ReLU()\n",
      "    (14): Conv2d(256, 256, kernel_size=(3, 3), stride=(1, 1), padding=(1, 1))\n",
      "    (15): ReLU()\n",
      "    (16): MaxPool2d(kernel_size=2, stride=2, padding=0, dilation=1, ceil_mode=False)\n",
      "    (17): BatchNorm2d(256, eps=1e-05, momentum=0.1, affine=True, track_running_stats=True)\n",
      "    (18): Flatten(start_dim=1, end_dim=-1)\n",
      "    (19): Linear(in_features=4096, out_features=1024, bias=True)\n",
      "    (20): ReLU()\n",
      "    (21): Linear(in_features=1024, out_features=512, bias=True)\n",
      "    (22): ReLU()\n",
      "    (23): Linear(in_features=512, out_features=10, bias=True)\n",
      "  )\n",
      ")\n"
     ]
    }
   ],
   "source": [
    "class NeuralNetwork(nn.Module):\n",
    "  def __init__(self):\n",
    "    super(NeuralNetwork, self).__init__()\n",
    "    self.layer_stack = nn.Sequential(\n",
    "      nn.Conv2d(3, 32, kernel_size=3, stride=1, padding=1), # 32x32x3\n",
    "      nn.ReLU(),\n",
    "      nn.Conv2d(32, 64, kernel_size=3, stride=1, padding=1), # 32x32x64\n",
    "      nn.ReLU(),\n",
    "      nn.MaxPool2d(kernel_size=2, stride=2), # 16x16x64\n",
    "      nn.BatchNorm2d(64),\n",
    "\n",
    "      nn.Conv2d(64, 128, kernel_size=3, stride=1, padding=1), # 16x16x128\n",
    "      nn.ReLU(),\n",
    "      nn.Conv2d(128, 128, kernel_size=3, stride=1, padding=1), # 16x16x128\n",
    "      nn.ReLU(),\n",
    "      nn.MaxPool2d(kernel_size=2, stride=2), # 8x8x128\n",
    "      nn.BatchNorm2d(128),\n",
    "\n",
    "      nn.Conv2d(128, 256, kernel_size=3, stride=1, padding=1), # 8x8x256\n",
    "      nn.ReLU(),\n",
    "      nn.Conv2d(256, 256, kernel_size=3, stride=1, padding=1), # 8x8x256\n",
    "      nn.ReLU(),\n",
    "      nn.MaxPool2d(kernel_size=2, stride=2), # 4x4x256\n",
    "      nn.BatchNorm2d(256),\n",
    "\n",
    "      nn.Flatten(),\n",
    "      nn.Linear(4*4*256, 1024),\n",
    "      nn.ReLU(),\n",
    "      nn.Linear(1024, 512),\n",
    "      nn.ReLU(),\n",
    "      nn.Linear(512, 10)\n",
    "    )\n",
    "\n",
    "  def forward(self, x):\n",
    "    return self.layer_stack(x)\n",
    "\n",
    "model = NeuralNetwork().to(DEVICE)\n",
    "print(model)"
   ]
  },
  {
   "cell_type": "markdown",
   "metadata": {},
   "source": [
    "## Run the model on training loop with validation"
   ]
  },
  {
   "cell_type": "code",
   "execution_count": 6,
   "metadata": {},
   "outputs": [],
   "source": [
    "loss_fn = nn.CrossEntropyLoss()\n",
    "optimizer = torch.optim.SGD(model.parameters(), lr=1e-3, momentum=0.9)"
   ]
  },
  {
   "cell_type": "code",
   "execution_count": 7,
   "metadata": {},
   "outputs": [],
   "source": [
    "def main():\n",
    "  train_loss_history, train_accuracy_history = [], []\n",
    "  valid_loss_history, valid_accuracy_history = [], []\n",
    "  tik = time.time()\n",
    "\n",
    "  for epochs in range(EPOCHS):\n",
    "    train_loss, train_accuracy = train_valid_model.train(model, train_dataloader, loss_fn, optimizer, DEVICE)\n",
    "    valid_loss, valid_accuracy = train_valid_model.valid(model, valid_dataloader, loss_fn, DEVICE)\n",
    "\n",
    "    train_loss_history.append(train_loss)\n",
    "    train_accuracy_history.append(train_accuracy)\n",
    "\n",
    "    valid_loss_history.append(valid_loss)\n",
    "    valid_accuracy_history.append(valid_accuracy)\n",
    "\n",
    "  print(f\"Training/Validation Time Elapsed: {time.time() - tik:>.3f}\")\n",
    "  return train_loss_history, train_accuracy_history, valid_loss_history, valid_accuracy_history"
   ]
  },
  {
   "cell_type": "code",
   "execution_count": null,
   "metadata": {},
   "outputs": [],
   "source": [
    "if __name__ == \"__main__\":\n",
    "  train_loss_history, train_accuracy_history, valid_loss_history, valid_accuracy_history = main()"
   ]
  },
  {
   "cell_type": "markdown",
   "metadata": {},
   "source": [
    "## Save model and loss/accuracy history with torch and json"
   ]
  },
  {
   "cell_type": "code",
   "execution_count": 9,
   "metadata": {},
   "outputs": [],
   "source": [
    "torch.save(model.state_dict(), MODEL_PATH)"
   ]
  },
  {
   "cell_type": "code",
   "execution_count": 10,
   "metadata": {},
   "outputs": [],
   "source": [
    "with open(\"listHistory/train_l_a\", 'w') as f:\n",
    "  json.dump([train_loss_history, train_accuracy_history], f)\n",
    "\n",
    "with open(\"listHistory/valid_l_a\", 'w') as f:\n",
    "  json.dump([valid_loss_history, valid_accuracy_history], f)"
   ]
  },
  {
   "cell_type": "code",
   "execution_count": 11,
   "metadata": {},
   "outputs": [
    {
     "data": {
      "image/png": "[encoded data removed]",
      "text/plain": [
       "<Figure size 1500x400 with 2 Axes>"
      ]
     },
     "metadata": {},
     "output_type": "display_data"
    }
   ],
   "source": [
    "_, ax = plt.subplots(nrows=1, ncols=2, figsize=(15, 4))\n",
    "ax[0].set_title(\"Training/Valid Loss\")\n",
    "ax[0].plot(train_loss_history, label=\"training loss\", c='blue')\n",
    "ax[0].plot(valid_loss_history, label=\"validation loss\", c='red')\n",
    "ax[0].set_ylabel(\"Loss\")\n",
    "ax[0].set_xlabel(\"Epochs\")\n",
    "ax[0].set_xticks(range(0, EPOCHS), range(1, EPOCHS+1))\n",
    "ax[0].legend()\n",
    "\n",
    "ax[1].set_title(\"Training/Valid Accuracy\")\n",
    "ax[1].plot(train_accuracy_history, label=\"training accuracy\", c='blue')\n",
    "ax[1].plot(valid_accuracy_history, label=\"validation accuracy\", c='red')\n",
    "ax[1].set_ylabel(\"Accuracy\")\n",
    "ax[1].set_xlabel(\"Epochs\")\n",
    "ax[1].set_xticks(range(0, EPOCHS), range(1, EPOCHS+1))\n",
    "ax[1].legend()\n",
    "plt.show()"
   ]
  },
  {
   "cell_type": "markdown",
   "metadata": {},
   "source": [
    "## Load saved model and json history list"
   ]
  },
  {
   "cell_type": "markdown",
   "metadata": {},
   "source": [
    "##### Run import libraries and cnn defition (NeuralNetwork()) only"
   ]
  },
  {
   "cell_type": "code",
   "execution_count": 12,
   "metadata": {},
   "outputs": [
    {
     "data": {
      "text/plain": [
       "<All keys matched successfully>"
      ]
     },
     "execution_count": 12,
     "metadata": {},
     "output_type": "execute_result"
    }
   ],
   "source": [
    "model = NeuralNetwork().to(DEVICE)\n",
    "model.load_state_dict(torch.load(\"model/cifar10_validation.pth\"))"
   ]
  },
  {
   "cell_type": "code",
   "execution_count": 13,
   "metadata": {},
   "outputs": [],
   "source": [
    "with open(\"listHistory/train_l_a\", \"r\") as f:\n",
    "  train_history = json.load(f)\n",
    "\n",
    "with open(\"listHistory/valid_l_a\", \"r\") as f:\n",
    "  valid_history = json.load(f)"
   ]
  },
  {
   "cell_type": "code",
   "execution_count": 14,
   "metadata": {},
   "outputs": [
    {
     "name": "stdout",
     "output_type": "stream",
     "text": [
      "train loss: [0.28344090052936227, 0.17296037033523898, 0.1277597944245093, 0.09332445484167755, 0.06498364918643142]\n",
      "train accuracy: [0.5958, 0.75984, 0.82312, 0.87082, 0.90868]\n",
      "valid loss: [0.2109335045795655, 0.16303772334621752, 0.14773394454345398, 0.14921599943569017, 0.15891871009487749]\n",
      "valid accuracy: [0.7063, 0.778, 0.8059, 0.8108, 0.8114]\n"
     ]
    }
   ],
   "source": [
    "train_loss, train_accuracy = train_history[0], train_history[1]\n",
    "valid_loss, valid_accuracy = valid_history[0], valid_history[1]\n",
    "print(f\"train loss: {train_loss}\\ntrain accuracy: {train_accuracy}\")\n",
    "print(f\"valid loss: {valid_loss}\\nvalid accuracy: {valid_accuracy}\")"
   ]
  },
  {
   "cell_type": "code",
   "execution_count": 15,
   "metadata": {},
   "outputs": [
    {
     "data": {
      "text/plain": [
       "' \\n  The model is overfitted, final epoch with 91% training accuracy and 82% validation accuracy\\n  - No testing statistics \\n  - Deeper neural network or use resnet implementation (50 layers or more)\\n'"
      ]
     },
     "execution_count": 15,
     "metadata": {},
     "output_type": "execute_result"
    }
   ],
   "source": [
    "\"\"\" \n",
    "  The model is overfitted, final epoch with 91% training accuracy and 82% validation accuracy\n",
    "  - No testing statistics \n",
    "  - Deeper neural network or use resnet implementation (50 layers or more)\n",
    "\"\"\""
   ]
  }
 ],
 "metadata": {
  "kernelspec": {
   "display_name": "Python 3",
   "language": "python",
   "name": "python3"
  },
  "language_info": {
   "codemirror_mode": {
    "name": "ipython",
    "version": 3
   },
   "file_extension": ".py",
   "mimetype": "text/x-python",
   "name": "python",
   "nbconvert_exporter": "python",
   "pygments_lexer": "ipython3",
   "version": "3.11.5"
  }
 },
 "nbformat": 4,
 "nbformat_minor": 2
}
