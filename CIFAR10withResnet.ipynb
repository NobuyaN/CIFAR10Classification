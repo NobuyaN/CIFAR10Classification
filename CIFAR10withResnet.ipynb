{
 "cells": [
  {
   "cell_type": "markdown",
   "metadata": {},
   "source": [
    "# Resnet Implementation on CIFAR-10 dataset using 32x32x3 image dimension"
   ]
  },
  {
   "cell_type": "markdown",
   "metadata": {},
   "source": [
    "## Import libraries and define global constants"
   ]
  },
  {
   "cell_type": "code",
   "execution_count": 1,
   "metadata": {},
   "outputs": [
    {
     "name": "stdout",
     "output_type": "stream",
     "text": [
      "cuda\n"
     ]
    }
   ],
   "source": [
    "import torch\n",
    "import torch.nn as nn\n",
    "from torch.utils.data import DataLoader\n",
    "from torchvision.datasets import CIFAR10\n",
    "from torchvision.transforms import v2\n",
    "import torch.nn.functional as F\n",
    "import matplotlib.pyplot as plt\n",
    "from utils import train_valid_model\n",
    "import time\n",
    "import json\n",
    "\n",
    "MODEL_PATH = 'model/cifar10_resnet.pth'\n",
    "BATCH_SIZE = 4\n",
    "EPOCHS = 10\n",
    "DEVICE = (\n",
    "  \"cuda\"\n",
    "  if torch.cuda.is_available()\n",
    "  else \"mps\"\n",
    "  if torch.backends.mps.is_available()\n",
    "  else \"cpu\"\n",
    ")\n",
    "print(DEVICE)"
   ]
  },
  {
   "cell_type": "markdown",
   "metadata": {},
   "source": [
    "## Prepare image transformation and generators "
   ]
  },
  {
   "cell_type": "code",
   "execution_count": 2,
   "metadata": {},
   "outputs": [],
   "source": [
    "transform = v2.Compose([\n",
    "  v2.ToImage(),\n",
    "  v2.ToDtype(torch.float32, scale=True),\n",
    "  v2.Normalize((0.5, 0.5, 0.5), (0.5, 0.5, 0.5))\n",
    "])"
   ]
  },
  {
   "cell_type": "code",
   "execution_count": 3,
   "metadata": {},
   "outputs": [],
   "source": [
    "trainset = CIFAR10('data', train=True, download=False, transform=transform)\n",
    "validset = CIFAR10('data', train=False, download=False, transform=transform)"
   ]
  },
  {
   "cell_type": "code",
   "execution_count": 4,
   "metadata": {},
   "outputs": [],
   "source": [
    "train_dataloader = DataLoader(trainset, BATCH_SIZE, shuffle=True, num_workers=2)\n",
    "valid_dataloader = DataLoader(validset, BATCH_SIZE, shuffle=False, num_workers=2)"
   ]
  },
  {
   "cell_type": "markdown",
   "metadata": {},
   "source": [
    "## Define model, initialize and state the forward pass"
   ]
  },
  {
   "cell_type": "code",
   "execution_count": 5,
   "metadata": {},
   "outputs": [],
   "source": [
    "def conv_block(in_channels, out_channels, pool=False):\n",
    "    layers = [nn.Conv2d(in_channels, out_channels, kernel_size=3, padding=1), # MUST maintain the same dimensionality for residual block\n",
    "              nn.BatchNorm2d(out_channels), \n",
    "              nn.ReLU(inplace=True)]\n",
    "    if pool: # Add Maxpooling layer if pool is true\n",
    "      layers.append(nn.MaxPool2d(2)) # Default stride would be None, but would be replaced with kernel size if prompted\n",
    "      \n",
    "    return nn.Sequential(*layers) # unpack arguments defined with layers"
   ]
  },
  {
   "cell_type": "code",
   "execution_count": 6,
   "metadata": {},
   "outputs": [
    {
     "name": "stdout",
     "output_type": "stream",
     "text": [
      "ResNet9(\n",
      "  (conv1): Sequential(\n",
      "    (0): Conv2d(3, 64, kernel_size=(3, 3), stride=(1, 1), padding=(1, 1))\n",
      "    (1): BatchNorm2d(64, eps=1e-05, momentum=0.1, affine=True, track_running_stats=True)\n",
      "    (2): ReLU(inplace=True)\n",
      "  )\n",
      "  (conv2): Sequential(\n",
      "    (0): Conv2d(64, 128, kernel_size=(3, 3), stride=(1, 1), padding=(1, 1))\n",
      "    (1): BatchNorm2d(128, eps=1e-05, momentum=0.1, affine=True, track_running_stats=True)\n",
      "    (2): ReLU(inplace=True)\n",
      "    (3): MaxPool2d(kernel_size=2, stride=2, padding=0, dilation=1, ceil_mode=False)\n",
      "  )\n",
      "  (res1): Sequential(\n",
      "    (0): Sequential(\n",
      "      (0): Conv2d(128, 128, kernel_size=(3, 3), stride=(1, 1), padding=(1, 1))\n",
      "      (1): BatchNorm2d(128, eps=1e-05, momentum=0.1, affine=True, track_running_stats=True)\n",
      "      (2): ReLU(inplace=True)\n",
      "    )\n",
      "    (1): Sequential(\n",
      "      (0): Conv2d(128, 128, kernel_size=(3, 3), stride=(1, 1), padding=(1, 1))\n",
      "      (1): BatchNorm2d(128, eps=1e-05, momentum=0.1, affine=True, track_running_stats=True)\n",
      "      (2): ReLU(inplace=True)\n",
      "    )\n",
      "  )\n",
      "  (conv3): Sequential(\n",
      "    (0): Conv2d(128, 256, kernel_size=(3, 3), stride=(1, 1), padding=(1, 1))\n",
      "    (1): BatchNorm2d(256, eps=1e-05, momentum=0.1, affine=True, track_running_stats=True)\n",
      "    (2): ReLU(inplace=True)\n",
      "    (3): MaxPool2d(kernel_size=2, stride=2, padding=0, dilation=1, ceil_mode=False)\n",
      "  )\n",
      "  (conv4): Sequential(\n",
      "    (0): Conv2d(256, 512, kernel_size=(3, 3), stride=(1, 1), padding=(1, 1))\n",
      "    (1): BatchNorm2d(512, eps=1e-05, momentum=0.1, affine=True, track_running_stats=True)\n",
      "    (2): ReLU(inplace=True)\n",
      "    (3): MaxPool2d(kernel_size=2, stride=2, padding=0, dilation=1, ceil_mode=False)\n",
      "  )\n",
      "  (res2): Sequential(\n",
      "    (0): Sequential(\n",
      "      (0): Conv2d(512, 512, kernel_size=(3, 3), stride=(1, 1), padding=(1, 1))\n",
      "      (1): BatchNorm2d(512, eps=1e-05, momentum=0.1, affine=True, track_running_stats=True)\n",
      "      (2): ReLU(inplace=True)\n",
      "    )\n",
      "    (1): Sequential(\n",
      "      (0): Conv2d(512, 512, kernel_size=(3, 3), stride=(1, 1), padding=(1, 1))\n",
      "      (1): BatchNorm2d(512, eps=1e-05, momentum=0.1, affine=True, track_running_stats=True)\n",
      "      (2): ReLU(inplace=True)\n",
      "    )\n",
      "  )\n",
      "  (linear): Sequential(\n",
      "    (0): MaxPool2d(kernel_size=4, stride=4, padding=0, dilation=1, ceil_mode=False)\n",
      "    (1): Flatten(start_dim=1, end_dim=-1)\n",
      "    (2): Linear(in_features=512, out_features=10, bias=True)\n",
      "  )\n",
      ")\n"
     ]
    },
    {
     "data": {
      "text/plain": [
       "' \\n  Resnet architecture with CIFAR10 image support by kamal Das\\n'"
      ]
     },
     "execution_count": 6,
     "metadata": {},
     "output_type": "execute_result"
    }
   ],
   "source": [
    "class ResNet9(nn.Module):\n",
    "  def __init__(self, in_channels, num_classes):\n",
    "    super(ResNet9, self).__init__()\n",
    "\n",
    "    self.conv1 = conv_block(in_channels, 64) # 32x32x64\n",
    "    self.conv2 = conv_block(64, 128, pool=True) # 16x16x128\n",
    "    self.res1 = nn.Sequential(conv_block(128, 128), conv_block(128, 128)) # 16x16x128\n",
    "    \n",
    "    self.conv3 = conv_block(128, 256, pool=True) # 8x8x256\n",
    "    self.conv4 = conv_block(256, 512, pool=True) # 4x4x512\n",
    "    self.res2 = nn.Sequential(conv_block(512, 512), conv_block(512, 512)) # 4x4x512\n",
    "\n",
    "    self.linear = nn.Sequential(nn.MaxPool2d(4), # 1x1x512\n",
    "                                    nn.Flatten(), \n",
    "                                    nn.Linear(512, num_classes))\n",
    "        \n",
    "  def forward(self, x):\n",
    "      x = self.conv1(x)\n",
    "      x = self.conv2(x)\n",
    "      x = self.res1(x) + x\n",
    "      x = self.conv3(x)\n",
    "      x = self.conv4(x)\n",
    "      x = self.res2(x) + x\n",
    "      x = self.linear(x)\n",
    "      return x\n",
    "\n",
    "# in_channels = 3, num_classes = 10\n",
    "model = ResNet9(3, 10).to(DEVICE)\n",
    "print(model)\n",
    "\n",
    "\"\"\" \n",
    "  Resnet architecture with CIFAR10 image support by kamal Das\n",
    "\"\"\""
   ]
  },
  {
   "cell_type": "markdown",
   "metadata": {},
   "source": [
    "## Run the model on training loop with validation"
   ]
  },
  {
   "cell_type": "code",
   "execution_count": 7,
   "metadata": {},
   "outputs": [],
   "source": [
    "loss_fn = nn.CrossEntropyLoss()\n",
    "optimizer = torch.optim.SGD(model.parameters(), lr=1e-3, momentum=0.9)"
   ]
  },
  {
   "cell_type": "code",
   "execution_count": 8,
   "metadata": {},
   "outputs": [],
   "source": [
    "def main():\n",
    "  train_loss_history, train_accuracy_history = [], []\n",
    "  valid_loss_history, valid_accuracy_history = [], []\n",
    "  tik = time.time()\n",
    "\n",
    "  for epochs in range(EPOCHS):\n",
    "    train_loss, train_accuracy = train_valid_model.train(model, train_dataloader, loss_fn, optimizer, DEVICE, log=False)\n",
    "    valid_loss, valid_accuracy = train_valid_model.valid(model, valid_dataloader, loss_fn, DEVICE, log=False)\n",
    "\n",
    "    train_loss_history.append(train_loss)\n",
    "    train_accuracy_history.append(train_accuracy)\n",
    "\n",
    "    valid_loss_history.append(valid_loss)\n",
    "    valid_accuracy_history.append(valid_accuracy)\n",
    "\n",
    "  print(f\"Training/Validation Time Elapsed: {time.time() - tik:>.3f}\")\n",
    "  return train_loss_history, train_accuracy_history, valid_loss_history, valid_accuracy_history"
   ]
  },
  {
   "cell_type": "code",
   "execution_count": 9,
   "metadata": {},
   "outputs": [
    {
     "name": "stdout",
     "output_type": "stream",
     "text": [
      "Loss: 3.344151 [16000/50000]\n",
      "Loss: 2.057098 [32000/50000]\n",
      "Loss: 0.592812 [48000/50000]\n",
      "Validation Error ----- Loss: 0.38040045 Accuracy: 55.47\n",
      "Loss: 0.495111 [16000/50000]\n",
      "Loss: 0.627509 [32000/50000]\n",
      "Loss: 2.559055 [48000/50000]\n",
      "Validation Error ----- Loss: 0.22400489 Accuracy: 71.27\n",
      "Loss: 1.214091 [16000/50000]\n",
      "Loss: 0.227387 [32000/50000]\n",
      "Loss: 0.445885 [48000/50000]\n",
      "Validation Error ----- Loss: 0.23332144 Accuracy: 72.83\n",
      "Loss: 0.636801 [16000/50000]\n",
      "Loss: 0.013973 [32000/50000]\n",
      "Loss: 0.748287 [48000/50000]\n",
      "Validation Error ----- Loss: 0.20776253 Accuracy: 77.39\n",
      "Loss: 0.015661 [16000/50000]\n",
      "Loss: 0.117774 [32000/50000]\n",
      "Loss: 1.622955 [48000/50000]\n",
      "Validation Error ----- Loss: 0.22549249 Accuracy: 78.56\n",
      "Loss: 0.054722 [16000/50000]\n",
      "Loss: 0.567285 [32000/50000]\n",
      "Loss: 0.098501 [48000/50000]\n",
      "Validation Error ----- Loss: 0.25800423 Accuracy: 79.13\n",
      "Loss: 0.161910 [16000/50000]\n",
      "Loss: 1.259362 [32000/50000]\n",
      "Loss: 0.010497 [48000/50000]\n",
      "Validation Error ----- Loss: 0.15793599 Accuracy: 82.70\n",
      "Loss: 0.063347 [16000/50000]\n",
      "Loss: 0.137794 [32000/50000]\n",
      "Loss: 0.111771 [48000/50000]\n",
      "Validation Error ----- Loss: 0.20577932 Accuracy: 81.88\n",
      "Loss: 0.002938 [16000/50000]\n",
      "Loss: 0.010598 [32000/50000]\n",
      "Loss: 0.099531 [48000/50000]\n",
      "Validation Error ----- Loss: 0.29977572 Accuracy: 81.57\n",
      "Loss: 0.037492 [16000/50000]\n",
      "Loss: 0.000230 [32000/50000]\n",
      "Loss: 0.000332 [48000/50000]\n",
      "Validation Error ----- Loss: 0.17395956 Accuracy: 84.24\n",
      "Training/Validation Time Elapsed: 9194.122\n"
     ]
    }
   ],
   "source": [
    "if __name__ == \"__main__\":\n",
    "  train_loss_history, train_accuracy_history, valid_loss_history, valid_accuracy_history = main()"
   ]
  },
  {
   "cell_type": "markdown",
   "metadata": {},
   "source": [
    "## Save model and loss/accuracy history with torch and json"
   ]
  },
  {
   "cell_type": "code",
   "execution_count": 10,
   "metadata": {},
   "outputs": [],
   "source": [
    "torch.save(model.state_dict(), MODEL_PATH)"
   ]
  },
  {
   "cell_type": "code",
   "execution_count": 11,
   "metadata": {},
   "outputs": [],
   "source": [
    "with open(\"listHistory/train_l_a_resnet\", 'w') as f:\n",
    "  json.dump([train_loss_history, train_accuracy_history], f)\n",
    "\n",
    "with open(\"listHistory/valid_l_a_resnet\", 'w') as f:\n",
    "  json.dump([valid_loss_history, valid_accuracy_history], f)"
   ]
  },
  {
   "cell_type": "code",
   "execution_count": 12,
   "metadata": {},
   "outputs": [
    {
     "data": {
      "image/png": "[encoded data removed]",
      "text/plain": [
       "<Figure size 1500x400 with 2 Axes>"
      ]
     },
     "metadata": {},
     "output_type": "display_data"
    }
   ],
   "source": [
    "_, ax = plt.subplots(nrows=1, ncols=2, figsize=(15, 4))\n",
    "ax[0].set_title(\"Training/Valid Loss\")\n",
    "ax[0].plot(train_loss_history, label=\"training loss\", c='blue')\n",
    "ax[0].plot(valid_loss_history, label=\"validation loss\", c='red')\n",
    "ax[0].set_ylabel(\"Loss\")\n",
    "ax[0].set_xlabel(\"Epochs\")\n",
    "ax[0].set_xticks(range(0, EPOCHS), range(1, EPOCHS+1))\n",
    "ax[0].legend()\n",
    "\n",
    "ax[1].set_title(\"Training/Valid Accuracy\")\n",
    "ax[1].plot(train_accuracy_history, label=\"training accuracy\", c='blue')\n",
    "ax[1].plot(valid_accuracy_history, label=\"validation accuracy\", c='red')\n",
    "ax[1].set_ylabel(\"Accuracy\")\n",
    "ax[1].set_xlabel(\"Epochs\")\n",
    "ax[1].set_xticks(range(0, EPOCHS), range(1, EPOCHS+1))\n",
    "ax[1].legend()\n",
    "plt.show()"
   ]
  },
  {
   "cell_type": "markdown",
   "metadata": {},
   "source": [
    "## Load saved model and json history list"
   ]
  },
  {
   "cell_type": "markdown",
   "metadata": {},
   "source": [
    "##### Run import libraries and cnn defition (NeuralNetwork()) only"
   ]
  },
  {
   "cell_type": "code",
   "execution_count": 13,
   "metadata": {},
   "outputs": [
    {
     "data": {
      "text/plain": [
       "<All keys matched successfully>"
      ]
     },
     "execution_count": 13,
     "metadata": {},
     "output_type": "execute_result"
    }
   ],
   "source": [
    "model = ResNet9(3, 10).to(DEVICE)\n",
    "model.load_state_dict(torch.load(MODEL_PATH))"
   ]
  },
  {
   "cell_type": "code",
   "execution_count": 14,
   "metadata": {},
   "outputs": [],
   "source": [
    "with open(\"listHistory/train_l_a_resnet\", \"r\") as f:\n",
    "  train_history = json.load(f)\n",
    "\n",
    "with open(\"listHistory/valid_l_a_resnet\", \"r\") as f:\n",
    "  valid_history = json.load(f)"
   ]
  },
  {
   "cell_type": "code",
   "execution_count": 15,
   "metadata": {},
   "outputs": [
    {
     "name": "stdout",
     "output_type": "stream",
     "text": [
      "train loss: [0.4901914248365164, 0.2666798426426202, 0.1900529476737464, 0.14867999972281162, 0.11634188377885832, 0.09497465513371775, 0.07514925640324648, 0.05775906882767533, 0.04336684662999909, 0.03212387648994808]\n",
      "train accuracy: [0.393, 0.64184, 0.74288, 0.79944, 0.84138, 0.86868, 0.89648, 0.92002, 0.93972, 0.95466]\n",
      "valid loss: [0.3804004536051303, 0.2240048857237678, 0.23332144063962332, 0.20776252689379618, 0.22549249161232146, 0.2580042266508477, 0.1579359931895876, 0.2057793150787772, 0.29977571927562113, 0.17395956393987239]\n",
      "valid accuracy: [0.5547, 0.7127, 0.7283, 0.7739, 0.7856, 0.7913, 0.827, 0.8188, 0.8157, 0.8424]\n"
     ]
    }
   ],
   "source": [
    "train_loss, train_accuracy = train_history[0], train_history[1]\n",
    "valid_loss, valid_accuracy = valid_history[0], valid_history[1]\n",
    "print(f\"train loss: {train_loss}\\ntrain accuracy: {train_accuracy}\")\n",
    "print(f\"valid loss: {valid_loss}\\nvalid accuracy: {valid_accuracy}\")"
   ]
  }
 ],
 "metadata": {
  "kernelspec": {
   "display_name": "Python 3",
   "language": "python",
   "name": "python3"
  },
  "language_info": {
   "codemirror_mode": {
    "name": "ipython",
    "version": 3
   },
   "file_extension": ".py",
   "mimetype": "text/x-python",
   "name": "python",
   "nbconvert_exporter": "python",
   "pygments_lexer": "ipython3",
   "version": "3.11.5"
  }
 },
 "nbformat": 4,
 "nbformat_minor": 2
}
